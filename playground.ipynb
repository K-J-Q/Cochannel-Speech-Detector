{
 "cells": [
  {
   "cell_type": "code",
   "execution_count": null,
   "metadata": {},
   "outputs": [],
   "source": [
    "from configparser import ConfigParser\n",
    "\n",
    "config = ConfigParser()\n",
    "config.read('config.ini')\n",
    "config['augmentations']['pad_trunc_noise_multiplier']\n"
   ]
  },
  {
   "cell_type": "code",
   "execution_count": null,
   "metadata": {},
   "outputs": [],
   "source": [
    "from torchsummary import summary\n",
    "summary(model, (1,257, 63))"
   ]
  },
  {
   "cell_type": "code",
   "execution_count": null,
   "metadata": {},
   "outputs": [],
   "source": [
    "import torch\n",
    "from loader.AudioDataset import specMask, collate_batch, createDataset\n",
    "from torch.utils.data import Dataset\n",
    "import loader.utils as utils\n",
    "import matplotlib.pyplot as plt\n",
    "import model\n",
    "import random\n",
    "\n",
    "random.seed(10)\n",
    "torch.manual_seed(10)\n",
    "\n",
    "linux = '/media/jianquan/Data/Processed Audio/'\n",
    "windows = 'E:/Processed Audio/'\n",
    "\n",
    "audio_paths, _ = utils.getAudioPaths(windows)\n",
    "\n",
    "audio_train_dataset = createDataset(audio_paths, transformParams = utils.getTransforms(False), outputAudio = True)\n",
    "\n",
    "test_dataloader = torch.utils.data.DataLoader(\n",
    "    audio_train_dataset,\n",
    "    batch_size=1,\n",
    "    num_workers=0,\n",
    "    shuffle=False,\n",
    "    collate_fn = collate_batch\n",
    ")\n",
    "batch = next(iter(test_dataloader))\n",
    "batch_size = len(batch[0])\n",
    "\n",
    "nfftList = [64, 128, 256, 512, 1024]\n",
    "classList = [0, 1, 2]\n",
    "\n",
    "for nfft in nfftList:\n",
    "    for specClass in classList:\n",
    "        saveName = f'nfft{nfft}_class{specClass}'\n",
    "        print(saveName, end=': ')\n",
    "        testModel = model.CNNNetwork(nfft, specClass)\n",
    "        testModel(batch[0])\n",
    "        plt.savefig(f'./spec/spec/whisper Norm/{saveName}.png')\n",
    "\n",
    "\n",
    "# import IPython.display as ipd\n",
    "# ipd.Audio(batch[0][3], rate = 8000)\n",
    "# for b in batch[0]:\n",
    "#     # print(b.max(),b.median(),b.mean(), b.min())\n",
    "#     # print(b).\n",
    "\n",
    "    \n",
    "#     plt.plot(b[0])\n",
    "#     plt.show()"
   ]
  },
  {
   "cell_type": "code",
   "execution_count": 28,
   "metadata": {},
   "outputs": [],
   "source": [
    "import models.segmentation \n",
    "model=models.segmentation.PyanNet(num_channels=1)\n"
   ]
  },
  {
   "cell_type": "code",
   "execution_count": 1,
   "metadata": {},
   "outputs": [],
   "source": [
    "import glob\n",
    "\n",
    "def select_model(path='.'):\n",
    "    # Use glob to find all available models in the specified path\n",
    "    models = glob.glob(f'{path}/*.model')\n",
    "\n",
    "    # Print the available models to the user\n",
    "    print('Available models:')\n",
    "    for i, model in enumerate(models):\n",
    "        print(f'{i+1}: {model}')\n",
    "\n",
    "    # Prompt the user to select a model\n",
    "    selection = input('Please select a model by entering its number: ')\n",
    "\n",
    "    # Return the selected model\n",
    "    return models[int(selection) - 1]\n"
   ]
  },
  {
   "cell_type": "code",
   "execution_count": 7,
   "metadata": {},
   "outputs": [],
   "source": [
    "import os\n",
    "import importlib, inspect\n",
    "\n",
    "\n",
    "def select_model():\n",
    "    model_class = None\n",
    "    # Get the list of files in the 'model' directory\n",
    "    files = os.listdir('model')\n",
    "    # Filter out any files that are not Python files\n",
    "    files = [file for file in files if file.endswith('.py')]\n",
    "\n",
    "    # Print a list of available models\n",
    "    print('Available models:')\n",
    "    for i, file in enumerate(files):\n",
    "        print(f'{i+1}. {file[:-3]}')\n",
    "\n",
    "    # Prompt the user to select a model\n",
    "    while model_class is None:\n",
    "        # Get the user's input\n",
    "        selection = input('Enter the number of the model you want to use: ')\n",
    "        try:\n",
    "            # Convert the input to an integer\n",
    "            selection = int(selection)\n",
    "            # Check if the selection is within the range of available models\n",
    "            if selection > 0 and selection <= len(files):\n",
    "                # Import the selected module\n",
    "                module = importlib.import_module(\n",
    "                    'model.' + files[selection - 1][:-3])\n",
    "                # Loop through the attributes in the module\n",
    "                for attr in dir(module):\n",
    "                    # Check if the attribute is a class\n",
    "                    if inspect.isclass(getattr(module, attr)):\n",
    "                        # Get the class\n",
    "                        model_class = getattr(module, attr)\n",
    "                        break\n",
    "            else:\n",
    "                # If the selection is not within the range of available models, print an error message\n",
    "                print('Invalid selection')\n",
    "        except ValueError:\n",
    "            # If the input cannot be converted to an integer, print an error message\n",
    "            print('Invalid input')\n",
    "\n",
    "    return model_class\n"
   ]
  },
  {
   "cell_type": "code",
   "execution_count": 9,
   "metadata": {},
   "outputs": [
    {
     "name": "stdout",
     "output_type": "stream",
     "text": [
      "Available models:\n",
      "1. CNN\n",
      "2. __init__\n",
      "3. CNN_mel\n",
      "4. CNN_specNorm\n"
     ]
    }
   ],
   "source": [
    "model = select_model()"
   ]
  }
 ],
 "metadata": {
  "kernelspec": {
   "display_name": "Python 3.9.13 ('base')",
   "language": "python",
   "name": "python3"
  },
  "language_info": {
   "codemirror_mode": {
    "name": "ipython",
    "version": 3
   },
   "file_extension": ".py",
   "mimetype": "text/x-python",
   "name": "python",
   "nbconvert_exporter": "python",
   "pygments_lexer": "ipython3",
   "version": "3.9.13"
  },
  "orig_nbformat": 4,
  "vscode": {
   "interpreter": {
    "hash": "d7288e82646d3164eca24130947288f8779d11454649f2c02a5dfc42af7f324c"
   }
  }
 },
 "nbformat": 4,
 "nbformat_minor": 2
}
