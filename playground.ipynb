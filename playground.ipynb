{
 "cells": [
  {
   "cell_type": "code",
   "execution_count": null,
   "metadata": {},
   "outputs": [],
   "source": [
    "from configparser import ConfigParser\n",
    "\n",
    "config = ConfigParser()\n",
    "config.read('config.ini')\n",
    "config['augmentations']['pad_trunc_noise_multiplier']\n"
   ]
  },
  {
   "cell_type": "code",
   "execution_count": null,
   "metadata": {},
   "outputs": [],
   "source": [
    "from torchsummary import summary\n",
    "summary(model, (1,257, 63))"
   ]
  },
  {
   "cell_type": "code",
   "execution_count": null,
   "metadata": {},
   "outputs": [],
   "source": [
    "import torch\n",
    "from loader.AudioDataset import specMask, collate_batch, createDataset\n",
    "from torch.utils.data import Dataset\n",
    "import loader.utils as utils\n",
    "import matplotlib.pyplot as plt\n",
    "import model\n",
    "import random\n",
    "\n",
    "random.seed(10)\n",
    "torch.manual_seed(10)\n",
    "\n",
    "linux = '/media/jianquan/Data/Processed Audio/'\n",
    "windows = 'E:/Processed Audio/'\n",
    "\n",
    "audio_paths, _ = utils.getAudioPaths(windows)\n",
    "\n",
    "audio_train_dataset = createDataset(audio_paths, transformParams = utils.getTransforms(False), outputAudio = True)\n",
    "\n",
    "test_dataloader = torch.utils.data.DataLoader(\n",
    "    audio_train_dataset,\n",
    "    batch_size=1,\n",
    "    num_workers=0,\n",
    "    shuffle=False,\n",
    "    collate_fn = collate_batch\n",
    ")\n",
    "batch = next(iter(test_dataloader))\n",
    "batch_size = len(batch[0])\n",
    "\n",
    "nfftList = [64, 128, 256, 512, 1024]\n",
    "classList = [0, 1, 2]\n",
    "\n",
    "for nfft in nfftList:\n",
    "    for specClass in classList:\n",
    "        saveName = f'nfft{nfft}_class{specClass}'\n",
    "        print(saveName, end=': ')\n",
    "        testModel = model.CNNNetwork(nfft, specClass)\n",
    "        testModel(batch[0])\n",
    "        plt.savefig(f'./spec/spec/whisper Norm/{saveName}.png')\n",
    "\n",
    "\n",
    "# import IPython.display as ipd\n",
    "# ipd.Audio(batch[0][3], rate = 8000)\n",
    "# for b in batch[0]:\n",
    "#     # print(b.max(),b.median(),b.mean(), b.min())\n",
    "#     # print(b).\n",
    "\n",
    "    \n",
    "#     plt.plot(b[0])\n",
    "#     plt.show()"
   ]
  },
  {
   "cell_type": "code",
   "execution_count": 28,
   "metadata": {},
   "outputs": [],
   "source": [
    "import models.segmentation \n",
    "model=models.segmentation.PyanNet(num_channels=1)\n"
   ]
  },
  {
   "cell_type": "code",
   "execution_count": 1,
   "metadata": {},
   "outputs": [],
   "source": [
    "import glob\n",
    "\n",
    "def select_model(path='.'):\n",
    "    # Use glob to find all available models in the specified path\n",
    "    models = glob.glob(f'{path}/*.model')\n",
    "\n",
    "    # Print the available models to the user\n",
    "    print('Available models:')\n",
    "    for i, model in enumerate(models):\n",
    "        print(f'{i+1}: {model}')\n",
    "\n",
    "    # Prompt the user to select a model\n",
    "    selection = input('Please select a model by entering its number: ')\n",
    "\n",
    "    # Return the selected model\n",
    "    return models[int(selection) - 1]\n"
   ]
  },
  {
   "cell_type": "code",
   "execution_count": 2,
   "metadata": {},
   "outputs": [],
   "source": [
    "def predictFile(filePath, model, device):\n",
    "    # code for predicting the label of a single file goes here\n",
    "    pass\n",
    "\n",
    "def predictLabeledFolders(folderPath, model, device):\n",
    "    # code for predicting the labels of files in labeled folders goes here\n",
    "    pass\n",
    "\n",
    "def predictFolder(model, device, folderPath):\n",
    "    # code for predicting the labels of files in a single folder goes here\n",
    "    pass\n",
    "\n",
    "def predictLive(model, device):\n",
    "    # code for predicting the labels of live audio goes here\n",
    "    pass"
   ]
  },
  {
   "cell_type": "code",
   "execution_count": 3,
   "metadata": {},
   "outputs": [
    {
     "name": "stdout",
     "output_type": "stream",
     "text": [
      "Which function do you want to run?\n",
      "1: predictFile\n",
      "2: predictLabeledFolders\n",
      "3: predictFolder\n",
      "4: predictLive\n",
      "Enter Q to quit\n",
      "Which function do you want to run?\n",
      "1: predictFile\n",
      "2: predictLabeledFolders\n",
      "3: predictFolder\n",
      "4: predictLive\n",
      "Enter Q to quit\n"
     ]
    }
   ],
   "source": [
    "# dictionary mapping function names to the corresponding functions\n",
    "functions = {\n",
    "    \"predictFile\": predictFile,\n",
    "    \"predictLabeledFolders\": predictLabeledFolders,\n",
    "    \"predictFolder\": predictFolder,\n",
    "    \"predictLive\": predictLive\n",
    "}\n",
    "\n",
    "# let the user select a function\n",
    "while True:\n",
    "    print(\"Which function do you want to run?\")\n",
    "    for i, (name, _) in enumerate(functions.items()):\n",
    "        print(f\"{i+1}: {name}\")\n",
    "    print(\"Enter Q to quit\")\n",
    "\n",
    "    # get user input\n",
    "    user_input = input(\"Enter the number or name of the function: \")\n",
    "\n",
    "    # quit if the user entered Q\n",
    "    if user_input.lower() == \"q\":\n",
    "        break\n",
    "\n",
    "    # try to get the function from the dictionary\n",
    "    function = functions.get(user_input)\n",
    "    if function is None:\n",
    "        # try to convert the user input to an integer\n",
    "        try:\n",
    "            index = int(user_input)\n",
    "            # get the function with the corresponding index\n",
    "            if 1 <= index <= len(functions):\n",
    "                function = list(functions.values())[index-1]\n",
    "        except ValueError:\n",
    "            # user input could not be converted to an integer\n",
    "            pass\n",
    "\n",
    "    # if a valid function was selected, call it\n",
    "    if function is not None:\n",
    "        # call the function with the default arguments\n",
    "        function(\"E:/Processed Audio/test/file.wav\", \"my_model\", \"my_device\")\n",
    "    else:\n",
    "        print(\"Invalid function selected\")"
   ]
  }
 ],
 "metadata": {
  "kernelspec": {
   "display_name": "Python 3.9.13 ('base')",
   "language": "python",
   "name": "python3"
  },
  "language_info": {
   "codemirror_mode": {
    "name": "ipython",
    "version": 3
   },
   "file_extension": ".py",
   "mimetype": "text/x-python",
   "name": "python",
   "nbconvert_exporter": "python",
   "pygments_lexer": "ipython3",
   "version": "3.9.13"
  },
  "orig_nbformat": 4,
  "vscode": {
   "interpreter": {
    "hash": "d7288e82646d3164eca24130947288f8779d11454649f2c02a5dfc42af7f324c"
   }
  }
 },
 "nbformat": 4,
 "nbformat_minor": 2
}
