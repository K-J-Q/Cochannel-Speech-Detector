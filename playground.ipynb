{
 "cells": [
  {
   "cell_type": "code",
   "execution_count": null,
   "metadata": {},
   "outputs": [],
   "source": [
    "from configparser import ConfigParser\n",
    "\n",
    "config = ConfigParser()\n",
    "config.read('config.ini')\n",
    "config['augmentations']['pad_trunc_noise_multiplier']\n"
   ]
  },
  {
   "cell_type": "code",
   "execution_count": null,
   "metadata": {},
   "outputs": [],
   "source": [
    "from torchsummary import summary\n",
    "summary(model, (1,257, 63))"
   ]
  },
  {
   "cell_type": "code",
   "execution_count": null,
   "metadata": {},
   "outputs": [],
   "source": [
    "import torch\n",
    "from loader.AudioDataset import specMask, collate_batch, createDataset\n",
    "from torch.utils.data import Dataset\n",
    "import loader.utils as utils\n",
    "import matplotlib.pyplot as plt\n",
    "import model\n",
    "import random\n",
    "\n",
    "random.seed(10)\n",
    "torch.manual_seed(10)\n",
    "\n",
    "linux = '/media/jianquan/Data/Processed Audio/'\n",
    "windows = 'E:/Processed Audio/'\n",
    "\n",
    "audio_paths, _ = utils.getAudioPaths(windows)\n",
    "\n",
    "audio_train_dataset = createDataset(audio_paths, transformParams = utils.getTransforms(False), outputAudio = True)\n",
    "\n",
    "test_dataloader = torch.utils.data.DataLoader(\n",
    "    audio_train_dataset,\n",
    "    batch_size=1,\n",
    "    num_workers=0,\n",
    "    shuffle=False,\n",
    "    collate_fn = collate_batch\n",
    ")\n",
    "batch = next(iter(test_dataloader))\n",
    "batch_size = len(batch[0])\n",
    "\n",
    "nfftList = [64, 128, 256, 512, 1024]\n",
    "classList = [0, 1, 2]\n",
    "\n",
    "for nfft in nfftList:\n",
    "    for specClass in classList:\n",
    "        saveName = f'nfft{nfft}_class{specClass}'\n",
    "        print(saveName, end=': ')\n",
    "        testModel = model.CNNNetwork(nfft, specClass)\n",
    "        testModel(batch[0])\n",
    "        plt.savefig(f'./spec/spec/whisper Norm/{saveName}.png')\n",
    "\n",
    "\n",
    "# import IPython.display as ipd\n",
    "# ipd.Audio(batch[0][3], rate = 8000)\n",
    "# for b in batch[0]:\n",
    "#     # print(b.max(),b.median(),b.mean(), b.min())\n",
    "#     # print(b).\n",
    "\n",
    "    \n",
    "#     plt.plot(b[0])\n",
    "#     plt.show()"
   ]
  },
  {
   "cell_type": "code",
   "execution_count": null,
   "metadata": {},
   "outputs": [],
   "source": [
    "import torch, torchaudio\n",
    "\n",
    "wav, sr = torchaudio.load('./data/test2.wav')\n",
    "wav = torchaudio.functional.dcshift(wav, -wav.mean())\n",
    "print(wav.max(),wav.mean(), wav.min())\n",
    "torchaudio.functional.loudness(wav, sr)\n",
    "\n",
    "# torchaudio.save('./data/dsadadsd(offset).wav', wav, sr)"
   ]
  },
  {
   "cell_type": "code",
   "execution_count": 54,
   "metadata": {},
   "outputs": [],
   "source": [
    "import subprocess\n",
    "\n",
    "command = [\"ffmpeg\", \"-f\", \"dshow\", \"-list_devices\", 'true','-i','dummy']\n",
    "out = subprocess.Popen(\n",
    "    command, stdout=subprocess.PIPE, stderr=subprocess.STDOUT)\n",
    "stdout, stderr = out.communicate()\n",
    "s = stdout.decode(\"utf-8\")\n",
    "k = s.split(']')[1:]\n",
    "k = [k.split('\\r\\n')[0] for k in k]"
   ]
  },
  {
   "cell_type": "code",
   "execution_count": 85,
   "metadata": {},
   "outputs": [
    {
     "name": "stderr",
     "output_type": "stream",
     "text": [
      "C:\\Users\\jianq\\AppData\\Local\\Temp\\ipykernel_832\\4088359137.py:44: DeprecationWarning: 'exec_' will be removed in the future. Use 'exec' instead.\n",
      "  sys.exit(app.exec_())\n"
     ]
    },
    {
     "ename": "SystemExit",
     "evalue": "0",
     "output_type": "error",
     "traceback": [
      "An exception has occurred, use %tb to see the full traceback.\n",
      "\u001b[1;31mSystemExit\u001b[0m\u001b[1;31m:\u001b[0m 0\n"
     ]
    },
    {
     "name": "stderr",
     "output_type": "stream",
     "text": [
      "C:\\Users\\jianq\\AppData\\Local\\Packages\\PythonSoftwareFoundation.Python.3.10_qbz5n2kfra8p0\\LocalCache\\local-packages\\Python310\\site-packages\\IPython\\core\\interactiveshell.py:3441: UserWarning: To exit: use 'exit', 'quit', or Ctrl-D.\n",
      "  warn(\"To exit: use 'exit', 'quit', or Ctrl-D.\", stacklevel=1)\n"
     ]
    }
   ],
   "source": [
    "import random\n",
    "import sys\n",
    "\n",
    "from PySide6.QtCore import Qt, Slot\n",
    "from PySide6.QtWidgets import (QApplication, QLabel, QPushButton,\n",
    "                               QVBoxLayout, QWidget)\n",
    "from __feature__ import snake_case, true_property\n",
    "\n",
    "\n",
    "class MyWidget(QWidget):\n",
    "    def __init__(self):\n",
    "        QWidget.__init__(self)\n",
    "\n",
    "        self.hello = [\n",
    "            \"Hallo Welt\",\n",
    "            \"ä½ å¥½ï¼Œä¸–ç•Œ\",\n",
    "            \"Hei maailma\",\n",
    "            \"Hola Mundo\",\n",
    "            \"ÐŸÑ€Ð¸Ð²ÐµÑ‚ Ð¼Ð¸Ñ€\",\n",
    "        ]\n",
    "\n",
    "        self.button = QPushButton(\"Click me!\")\n",
    "        self.message = QLabel(\"Hello World\")\n",
    "        self.message.alignment = Qt.AlignCenter\n",
    "\n",
    "        self.layout = QVBoxLayout(self)\n",
    "        self.layout.add_widget(self.message)\n",
    "        self.layout.add_widget(self.button)\n",
    "\n",
    "        # Connecting the signal\n",
    "        self.button.clicked.connect(self.magic)\n",
    "\n",
    "    @Slot()\n",
    "    def magic(self):\n",
    "        self.message.text = random.choice(self.hello)\n",
    "\n",
    "\n",
    "if __name__ == \"__main__\":\n",
    "    app = QApplication(sys.argv)\n",
    "\n",
    "    widget = MyWidget()\n",
    "    widget.show()\n",
    "\n",
    "    sys.exit(app.exec_())"
   ]
  }
 ],
 "metadata": {
  "kernelspec": {
   "display_name": "Python 3.10.8 64-bit (microsoft store)",
   "language": "python",
   "name": "python3"
  },
  "language_info": {
   "codemirror_mode": {
    "name": "ipython",
    "version": 3
   },
   "file_extension": ".py",
   "mimetype": "text/x-python",
   "name": "python",
   "nbconvert_exporter": "python",
   "pygments_lexer": "ipython3",
   "version": "3.10.8"
  },
  "orig_nbformat": 4,
  "vscode": {
   "interpreter": {
    "hash": "5e0ea5c72d63ec74a3e65528804f354af75f9a6d7105333063f2a8079cd404aa"
   }
  }
 },
 "nbformat": 4,
 "nbformat_minor": 2
}
