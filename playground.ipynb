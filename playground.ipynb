{
 "cells": [
  {
   "cell_type": "code",
   "execution_count": null,
   "metadata": {},
   "outputs": [],
   "source": [
    "from configparser import ConfigParser\n",
    "\n",
    "config = ConfigParser()\n",
    "config.read('config.ini')\n",
    "config['augmentations']['pad_trunc_noise_multiplier']\n"
   ]
  },
  {
   "cell_type": "code",
   "execution_count": null,
   "metadata": {},
   "outputs": [],
   "source": [
    "import torch\n",
    "import ml.machineLearning as machineLearning\n",
    "\n",
    "model = machineLearning.selectModel()"
   ]
  },
  {
   "cell_type": "code",
   "execution_count": null,
   "metadata": {},
   "outputs": [],
   "source": [
    "from torchsummary import summary\n",
    "summary(model, (1,257, 63))"
   ]
  },
  {
   "cell_type": "code",
   "execution_count": null,
   "metadata": {},
   "outputs": [],
   "source": [
    "import numpy as np\n",
    "import matplotlib.pyplot as plt\n",
    "\n",
    "file =  './data/JQ_rec.txt'\n",
    "\n",
    "label_list = [0]\n",
    "time_list = [0]\n",
    "\n",
    "with open(file) as f:\n",
    "    for lbl in f.read().splitlines():\n",
    "        lbl = lbl.split('\\t')\n",
    "\n",
    "        startTime = int(float(lbl[0]))\n",
    "        endTime = int(float(lbl[1]))\n",
    "        num_speakers = int(lbl[2])\n",
    "\n",
    "        if startTime != time_list[-1]:\n",
    "            time_list.append(startTime)\n",
    "            label_list.append(1)\n",
    "        time_list.append(endTime)\n",
    "        label_list.append(int(num_speakers))\n",
    "print(label_list)\n",
    "print(time_list)\n",
    "plt.step(time_list, label_list)"
   ]
  },
  {
   "cell_type": "code",
   "execution_count": 9,
   "metadata": {},
   "outputs": [
    {
     "name": "stdout",
     "output_type": "stream",
     "text": [
      "300\n"
     ]
    },
    {
     "data": {
      "text/html": [
       "\n",
       "                <audio  controls=\"controls\" >\n",
       "                    <source src=\"data:audio/wav;base64,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\" type=\"audio/wav\" />\n",
       "                    Your browser does not support the audio element.\n",
       "                </audio>\n",
       "              "
      ],
      "text/plain": [
       "<IPython.lib.display.Audio object>"
      ]
     },
     "execution_count": 9,
     "metadata": {},
     "output_type": "execute_result"
    }
   ],
   "source": [
    "import torch\n",
    "from loader.AudioDataset import specMask, collate_batch, createDataset\n",
    "from torch.utils.data import Dataset\n",
    "import loader.utils as utils\n",
    "import matplotlib.pyplot as plt\n",
    "\n",
    "linux = '/media/jianquan/Data/Processed Audio/'\n",
    "windows = './data/WAVE/'\n",
    "\n",
    "audio_paths, _ = utils.getAudioPaths(linux)\n",
    "\n",
    "audio_train_dataset = createDataset(audio_paths, transformParams = utils.getTransforms(False), outputAudio = True)\n",
    "\n",
    "test_dataloader = torch.utils.data.DataLoader(\n",
    "    audio_train_dataset,\n",
    "    batch_size=1,\n",
    "    num_workers=0,\n",
    "    shuffle=True,\n",
    "    collate_fn = collate_batch\n",
    ")\n",
    "\n",
    "batch = next(iter(test_dataloader))\n",
    "batch\n",
    "\n",
    "print(len(batch[0]))\n",
    "\n",
    "import IPython.display as ipd\n",
    "ipd.Audio(batch[0][3], rate = 8000)\n",
    "# for b in batch[0]:\n",
    "#     # print(b.max(),b.median(),b.mean(), b.min())\n",
    "#     # print(b).\n",
    "    \n",
    "#     plt.plot(b[0])\n",
    "#     plt.show()"
   ]
  },
  {
   "cell_type": "code",
   "execution_count": null,
   "metadata": {},
   "outputs": [],
   "source": [
    "import librosa\n",
    "import librosa.display\n",
    "import torchaudio\n",
    "import numpy as np\n",
    "\n",
    "wav, sr = librosa.load('./data/JQ_rec.wav')\n",
    "\n",
    "spec = np.abs(librosa.stft(wav[32000:64000], n_fft = 128))\n",
    "\n",
    "spec = spec/(spec + np.median(spec))\n",
    "\n",
    "import matplotlib.pyplot as plt\n",
    "\n",
    "plt.imshow(spec)"
   ]
  },
  {
   "cell_type": "code",
   "execution_count": null,
   "metadata": {},
   "outputs": [],
   "source": [
    "import matplotlib.pyplot as plt\n",
    "import torch, torchaudio\n",
    "\n",
    "a = torchaudio.load('/media/jianquan/Data/Original Audio/Singapore Speech Corpus/[P] Part 3 Same BoundaryMic/3003.wav')[0]\n",
    "b = torchaudio.load('/media/jianquan/Data/Processed Audio/SPEECH/4 Diff Room/sur_2010_6020_phnd_cs-mly.wav')[0]\n",
    "a"
   ]
  },
  {
   "cell_type": "code",
   "execution_count": null,
   "metadata": {},
   "outputs": [],
   "source": [
    "a = a[0][0:32000]\n",
    "b = b[0][0:32000]\n",
    "a.shape"
   ]
  },
  {
   "cell_type": "code",
   "execution_count": 10,
   "metadata": {},
   "outputs": [],
   "source": [
    "import torch\n",
    "\n",
    "for i in range(1000):\n",
    "    torch.tensor([0,1,2]).repeat(100)"
   ]
  }
 ],
 "metadata": {
  "kernelspec": {
   "display_name": "Python 3.10.7 64-bit",
   "language": "python",
   "name": "python3"
  },
  "language_info": {
   "codemirror_mode": {
    "name": "ipython",
    "version": 3
   },
   "file_extension": ".py",
   "mimetype": "text/x-python",
   "name": "python",
   "nbconvert_exporter": "python",
   "pygments_lexer": "ipython3",
   "version": "3.10.7"
  },
  "orig_nbformat": 4,
  "vscode": {
   "interpreter": {
    "hash": "916dbcbb3f70747c44a77c7bcd40155683ae19c65e1c03b4aa3499c5328201f1"
   }
  }
 },
 "nbformat": 4,
 "nbformat_minor": 2
}
