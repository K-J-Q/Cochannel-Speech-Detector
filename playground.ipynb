{
 "cells": [
  {
   "cell_type": "code",
   "execution_count": null,
   "metadata": {},
   "outputs": [],
   "source": [
    "from configparser import ConfigParser\n",
    "\n",
    "config = ConfigParser()\n",
    "config.read('config.ini')\n",
    "config['augmentations']['pad_trunc_noise_multiplier']\n"
   ]
  },
  {
   "cell_type": "code",
   "execution_count": null,
   "metadata": {},
   "outputs": [],
   "source": [
    "import torch\n",
    "import ml.machineLearning as machineLearning\n",
    "\n",
    "model = machineLearning.selectModel()"
   ]
  },
  {
   "cell_type": "code",
   "execution_count": null,
   "metadata": {},
   "outputs": [],
   "source": [
    "from torchsummary import summary\n",
    "summary(model, (1,257, 63))"
   ]
  },
  {
   "cell_type": "code",
   "execution_count": null,
   "metadata": {},
   "outputs": [],
   "source": [
    "import numpy as np\n",
    "import matplotlib.pyplot as plt\n",
    "\n",
    "file =  './data/JQ_rec.txt'\n",
    "\n",
    "label_list = [0]\n",
    "time_list = [0]\n",
    "\n",
    "with open(file) as f:\n",
    "    for lbl in f.read().splitlines():\n",
    "        lbl = lbl.split('\\t')\n",
    "\n",
    "        startTime = int(float(lbl[0]))\n",
    "        endTime = int(float(lbl[1]))\n",
    "        num_speakers = int(lbl[2])\n",
    "\n",
    "        if startTime != time_list[-1]:\n",
    "            time_list.append(startTime)\n",
    "            label_list.append(1)\n",
    "        time_list.append(endTime)\n",
    "        label_list.append(int(num_speakers))\n",
    "print(label_list)\n",
    "print(time_list)\n",
    "plt.step(time_list, label_list)"
   ]
  },
  {
   "cell_type": "code",
   "execution_count": 1,
   "metadata": {},
   "outputs": [
    {
     "name": "stderr",
     "output_type": "stream",
     "text": [
      "c:\\Anaconda\\lib\\site-packages\\paramiko\\transport.py:219: CryptographyDeprecationWarning: Blowfish has been deprecated\n",
      "  \"class\": algorithms.Blowfish,\n",
      "Using cache found in C:\\Users\\Jian Quan/.cache\\torch\\hub\\pytorch_vision_v0.10.0\n"
     ]
    },
    {
     "name": "stdout",
     "output_type": "stream",
     "text": [
      "nfft64_class0: (1.527775764465332, 0.3520212769508362, 0.3864540159702301, -0.47222423553466797)\n",
      "nfft64_class1: (1.527775764465332, 0.3520212769508362, 0.3864540159702301, -0.47222423553466797)\n",
      "nfft64_class2: (1.527775764465332, 0.3520212769508362, 0.3864540159702301, -0.47222423553466797)\n",
      "nfft128_class0: (1.691104769706726, 0.42361754179000854, 0.4562284052371979, -0.3088952302932739)\n",
      "nfft128_class1: (1.691104769706726, 0.42361754179000854, 0.4562284052371979, -0.3088952302932739)\n",
      "nfft128_class2: (1.691104769706726, 0.42361754179000854, 0.4562284052371979, -0.3088952302932739)\n",
      "nfft256_class0: (1.8206348419189453, 0.49090319871902466, 0.520081639289856, -0.1793651580810547)\n",
      "nfft256_class1: (1.8206348419189453, 0.49090319871902466, 0.520081639289856, -0.1793651580810547)\n",
      "nfft256_class2: (1.8206348419189453, 0.49090319871902466, 0.520081639289856, -0.1793651580810547)\n",
      "nfft512_class0: (1.9418706893920898, 0.5640262365341187, 0.5905556678771973, -0.058129310607910156)\n",
      "nfft512_class1: (1.9418706893920898, 0.5640262365341187, 0.5905556678771973, -0.058129310607910156)\n",
      "nfft512_class2: (1.9418706893920898, 0.5640262365341187, 0.5905556678771973, -0.058129310607910156)\n",
      "nfft1024_class0: (2.0298256874084473, 0.6454548835754395, 0.6706411242485046, 0.029825806617736816)\n",
      "nfft1024_class1: (2.0298256874084473, 0.6454548835754395, 0.6706411242485046, 0.029825806617736816)\n",
      "nfft1024_class2: (2.0298256874084473, 0.6454548835754395, 0.6706411242485046, 0.029825806617736816)\n"
     ]
    },
    {
     "data": {
      "image/png": "[encoded data removed]",
      "text/plain": [
       "<Figure size 640x480 with 1 Axes>"
      ]
     },
     "metadata": {},
     "output_type": "display_data"
    }
   ],
   "source": [
    "import torch\n",
    "from loader.AudioDataset import specMask, collate_batch, createDataset\n",
    "from torch.utils.data import Dataset\n",
    "import loader.utils as utils\n",
    "import matplotlib.pyplot as plt\n",
    "import model\n",
    "import random\n",
    "\n",
    "random.seed(10)\n",
    "torch.manual_seed(10)\n",
    "\n",
    "linux = '/media/jianquan/Data/Processed Audio/'\n",
    "windows = 'E:/Processed Audio/'\n",
    "\n",
    "audio_paths, _ = utils.getAudioPaths(windows)\n",
    "\n",
    "audio_train_dataset = createDataset(audio_paths, transformParams = utils.getTransforms(False), outputAudio = True)\n",
    "\n",
    "test_dataloader = torch.utils.data.DataLoader(\n",
    "    audio_train_dataset,\n",
    "    batch_size=1,\n",
    "    num_workers=0,\n",
    "    shuffle=False,\n",
    "    collate_fn = collate_batch\n",
    ")\n",
    "batch = next(iter(test_dataloader))\n",
    "batch_size = len(batch[0])\n",
    "\n",
    "nfftList = [64, 128, 256, 512, 1024]\n",
    "classList = [0, 1, 2]\n",
    "\n",
    "for nfft in nfftList:\n",
    "    for specClass in classList:\n",
    "        saveName = f'nfft{nfft}_class{specClass}'\n",
    "        print(saveName, end=': ')\n",
    "        testModel = model.CNNNetwork(nfft, specClass)\n",
    "        testModel(batch[0])\n",
    "        plt.savefig(f'./spec/spec/whisper Norm/{saveName}.png')\n",
    "\n",
    "\n",
    "# import IPython.display as ipd\n",
    "# ipd.Audio(batch[0][3], rate = 8000)\n",
    "# for b in batch[0]:\n",
    "#     # print(b.max(),b.median(),b.mean(), b.min())\n",
    "#     # print(b).\n",
    "\n",
    "    \n",
    "#     plt.plot(b[0])\n",
    "#     plt.show()"
   ]
  },
  {
   "cell_type": "code",
   "execution_count": null,
   "metadata": {},
   "outputs": [],
   "source": [
    "import librosa\n",
    "import librosa.display\n",
    "import torchaudio\n",
    "import numpy as np\n",
    "\n",
    "wav, sr = librosa.load('./data/JQ_rec.wav')\n",
    "\n",
    "spec = np.abs(librosa.stft(wav[32000:64000], n_fft = 128))\n",
    "\n",
    "spec = spec/(spec + np.median(spec))\n",
    "\n",
    "import matplotlib.pyplot as plt\n",
    "\n",
    "plt.imshow(spec)"
   ]
  },
  {
   "cell_type": "code",
   "execution_count": null,
   "metadata": {},
   "outputs": [],
   "source": [
    "import matplotlib.pyplot as plt\n",
    "import torch, torchaudio\n",
    "\n",
    "a = torchaudio.load('/media/jianquan/Data/Original Audio/Singapore Speech Corpus/[P] Part 3 Same BoundaryMic/3003.wav')[0]\n",
    "b = torchaudio.load('/media/jianquan/Data/Processed Audio/SPEECH/4 Diff Room/sur_2010_6020_phnd_cs-mly.wav')[0]\n",
    "a"
   ]
  },
  {
   "cell_type": "code",
   "execution_count": null,
   "metadata": {},
   "outputs": [],
   "source": [
    "a = a[0][0:32000]\n",
    "b = b[0][0:32000]\n",
    "a.shape"
   ]
  },
  {
   "cell_type": "code",
   "execution_count": null,
   "metadata": {},
   "outputs": [],
   "source": [
    "import torch\n",
    "\n",
    "for i in range(1000):\n",
    "    torch.tensor([0,1,2]).repeat(100)"
   ]
  }
 ],
 "metadata": {
  "kernelspec": {
   "display_name": "Python 3.9.13 ('base')",
   "language": "python",
   "name": "python3"
  },
  "language_info": {
   "codemirror_mode": {
    "name": "ipython",
    "version": 3
   },
   "file_extension": ".py",
   "mimetype": "text/x-python",
   "name": "python",
   "nbconvert_exporter": "python",
   "pygments_lexer": "ipython3",
   "version": "3.9.13"
  },
  "orig_nbformat": 4,
  "vscode": {
   "interpreter": {
    "hash": "6f5583cf1d9466b5c27e75c89cc6b383bed5736d6b16c51c8074d8690011a952"
   }
  }
 },
 "nbformat": 4,
 "nbformat_minor": 2
}
