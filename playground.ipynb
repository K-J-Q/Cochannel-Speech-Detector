{
 "cells": [
  {
   "cell_type": "code",
   "execution_count": null,
   "metadata": {},
   "outputs": [],
   "source": [
    "from configparser import ConfigParser\n",
    "\n",
    "config = ConfigParser()\n",
    "config.read('config.ini')\n",
    "config['augmentations']['pad_trunc_noise_multiplier']\n"
   ]
  },
  {
   "cell_type": "code",
   "execution_count": null,
   "metadata": {},
   "outputs": [],
   "source": [
    "from torchsummary import summary\n",
    "summary(model, (1,257, 63))"
   ]
  },
  {
   "cell_type": "code",
   "execution_count": null,
   "metadata": {},
   "outputs": [],
   "source": [
    "import torch\n",
    "from loader.AudioDataset import specMask, collate_batch, createDataset\n",
    "from torch.utils.data import Dataset\n",
    "import loader.utils as utils\n",
    "import matplotlib.pyplot as plt\n",
    "import model\n",
    "import random\n",
    "\n",
    "random.seed(10)\n",
    "torch.manual_seed(10)\n",
    "\n",
    "linux = '/media/jianquan/Data/Processed Audio/'\n",
    "windows = 'E:/Processed Audio/'\n",
    "\n",
    "audio_paths, _ = utils.getAudioPaths(windows)\n",
    "\n",
    "audio_train_dataset = createDataset(audio_paths, transformParams = utils.getTransforms(False), outputAudio = True)\n",
    "\n",
    "test_dataloader = torch.utils.data.DataLoader(\n",
    "    audio_train_dataset,\n",
    "    batch_size=1,\n",
    "    num_workers=0,\n",
    "    shuffle=False,\n",
    "    collate_fn = collate_batch\n",
    ")\n",
    "batch = next(iter(test_dataloader))\n",
    "batch_size = len(batch[0])\n",
    "\n",
    "nfftList = [64, 128, 256, 512, 1024]\n",
    "classList = [0, 1, 2]\n",
    "\n",
    "for nfft in nfftList:\n",
    "    for specClass in classList:\n",
    "        saveName = f'nfft{nfft}_class{specClass}'\n",
    "        print(saveName, end=': ')\n",
    "        testModel = model.CNNNetwork(nfft, specClass)\n",
    "        testModel(batch[0])\n",
    "        plt.savefig(f'./spec/spec/whisper Norm/{saveName}.png')\n",
    "\n",
    "\n",
    "# import IPython.display as ipd\n",
    "# ipd.Audio(batch[0][3], rate = 8000)\n",
    "# for b in batch[0]:\n",
    "#     # print(b.max(),b.median(),b.mean(), b.min())\n",
    "#     # print(b).\n",
    "\n",
    "    \n",
    "#     plt.plot(b[0])\n",
    "#     plt.show()"
   ]
  },
  {
   "cell_type": "code",
   "execution_count": 1,
   "metadata": {},
   "outputs": [
    {
     "name": "stderr",
     "output_type": "stream",
     "text": [
      "C:\\Users\\jianq\\AppData\\Local\\Packages\\PythonSoftwareFoundation.Python.3.10_qbz5n2kfra8p0\\LocalCache\\local-packages\\Python310\\site-packages\\tqdm\\auto.py:22: TqdmWarning: IProgress not found. Please update jupyter and ipywidgets. See https://ipywidgets.readthedocs.io/en/stable/user_install.html\n",
      "  from .autonotebook import tqdm as notebook_tqdm\n"
     ]
    }
   ],
   "source": [
    "import torch\n",
    "import matplotlib.pyplot as plt\n",
    "import testModel\n",
    "\n",
    "windowLength = 2\n",
    "\n",
    "gt_x, gt_y = testModel.getGroundTruth('./data/1speaker_0.txt', windowLength, 840)\n",
    "gt_x = gt_x[0:10]\n",
    "gt_y = gt_y[0:10]\n",
    "pred_graph=torch.randint(2,[int(gt_x[-1]/windowLength)])\n"
   ]
  },
  {
   "cell_type": "code",
   "execution_count": 2,
   "metadata": {},
   "outputs": [
    {
     "name": "stdout",
     "output_type": "stream",
     "text": [
      "[0, 9.845261, 15.917279, 21.873197, 26.447528, 27.829116, 29.715737, 56.33161, 58.015057, 59.094785]\n",
      "[0, 0, 1, 0, 1, 0, 1, 0, 1, 0]\n"
     ]
    },
    {
     "data": {
      "image/png": "[encoded data removed]",
      "text/plain": [
       "<Figure size 640x480 with 1 Axes>"
      ]
     },
     "metadata": {},
     "output_type": "display_data"
    }
   ],
   "source": [
    "plt.step(gt_x, gt_y)\n",
    "print(gt_x)\n",
    "print(gt_y)\n",
    "# plt.step(torch.arange(len(pred_graph))*windowLength, pred_graph)"
   ]
  },
  {
   "cell_type": "code",
   "execution_count": 90,
   "metadata": {},
   "outputs": [
    {
     "data": {
      "text/plain": [
       "array([0.9226305, 0.0773695, 0.       ])"
      ]
     },
     "execution_count": 90,
     "metadata": {},
     "output_type": "execute_result"
    }
   ],
   "source": [
    "import numpy as np\n",
    "import enum\n",
    "\n",
    "gt_x = np.array(gt_x)\n",
    "gt_y = np.array(gt_y)\n",
    "\n",
    "class filterMode(enum.Enum):\n",
    "    Class_0 = 0\n",
    "    Class_1 = 1\n",
    "    Class_2 = 2\n",
    "    Occupancy = 3\n",
    "\n",
    "def get_percentage_in_window(startTime, endTime):\n",
    "    label_time = np.array([0.0,0.0,0.0])\n",
    "    overlap = np.logical_and([gt_x > startTime],[gt_x<=endTime])\n",
    "    overlapIndex = overlap.nonzero()[1]\n",
    "\n",
    "    if len(overlapIndex):\n",
    "        lastTime = startTime\n",
    "        for overlap in overlapIndex:\n",
    "            label_time[gt_y[overlap]] += gt_x[overlap] - lastTime\n",
    "            lastTime = gt_x[overlap]\n",
    "        label_time[gt_y[overlap+1]] += endTime-gt_x[overlap]\n",
    "    else:\n",
    "        label_time[gt_y[np.argmax(gt_x > endTime)]] = endTime-startTime\n",
    "    label_time=label_time/(endTime-startTime)\n",
    "    assert np.sum(label_time) == 1\n",
    "    return label_time\n",
    "\n",
    "def percentageMode(occupancy_label, mode = filterMode.Occupancy):\n",
    "    returnIndex = np.where(np.where(occupancyPercentage!=0)[0] == mode.value)[0]\n",
    "    return returnIndex if len(returnIndex) else occupancy_label.argmax()\n",
    "    \n",
    "\n",
    "get_percentage_in_window(8,10)"
   ]
  },
  {
   "cell_type": "code",
   "execution_count": 92,
   "metadata": {},
   "outputs": [
    {
     "name": "stdout",
     "output_type": "stream",
     "text": [
      "[0.9226305 0.0773695 0.       ]\n"
     ]
    },
    {
     "data": {
      "text/plain": [
       "0"
      ]
     },
     "execution_count": 92,
     "metadata": {},
     "output_type": "execute_result"
    }
   ],
   "source": [
    "occupancyPercentage = get_percentage_in_window(8,10)\n",
    "print(occupancyPercentage)\n",
    "percentageMode(occupancyPercentage)"
   ]
  },
  {
   "cell_type": "code",
   "execution_count": 3,
   "metadata": {},
   "outputs": [
    {
     "data": {
      "text/plain": [
       "[WindowsPath('data/1speaker_0.wav'),\n",
       " WindowsPath('data/2speaker_0.wav'),\n",
       " WindowsPath('data/1speaker_1.wav'),\n",
       " WindowsPath('data/1speaker_2.wav'),\n",
       " WindowsPath('data/1speaker_3.wav')]"
      ]
     },
     "execution_count": 3,
     "metadata": {},
     "output_type": "execute_result"
    }
   ],
   "source": [
    "from pathlib import Path\n",
    "\n",
    "list(Path('./data').glob('**/*.wav'))"
   ]
  }
 ],
 "metadata": {
  "kernelspec": {
   "display_name": "Python 3.10.8 64-bit (microsoft store)",
   "language": "python",
   "name": "python3"
  },
  "language_info": {
   "codemirror_mode": {
    "name": "ipython",
    "version": 3
   },
   "file_extension": ".py",
   "mimetype": "text/x-python",
   "name": "python",
   "nbconvert_exporter": "python",
   "pygments_lexer": "ipython3",
   "version": "3.10.8"
  },
  "orig_nbformat": 4,
  "vscode": {
   "interpreter": {
    "hash": "5e0ea5c72d63ec74a3e65528804f354af75f9a6d7105333063f2a8079cd404aa"
   }
  }
 },
 "nbformat": 4,
 "nbformat_minor": 2
}
