{
 "cells": [
  {
   "cell_type": "code",
   "execution_count": 1,
   "metadata": {},
   "outputs": [
    {
     "ename": "SyntaxError",
     "evalue": "expected ':' (2923061456.py, line 7)",
     "output_type": "error",
     "traceback": [
      "\u001b[1;36m  Cell \u001b[1;32mIn [1], line 7\u001b[1;36m\u001b[0m\n\u001b[1;33m    for i in range(0, len(x), 5 * sr)\u001b[0m\n\u001b[1;37m                                     ^\u001b[0m\n\u001b[1;31mSyntaxError\u001b[0m\u001b[1;31m:\u001b[0m expected ':'\n"
     ]
    }
   ],
   "source": [
    "import librosa\n",
    "import soundfile as sf\n",
    "\n",
    "file = \"your_source_file.wav\"\n",
    "x, sr = librosa.load(file)\n",
    "\n",
    "for i in range(0, len(x), 5 * sr):\n",
    "    y = x[5 * sr * i: 5 * sr *(i+1)]\n",
    "    sf.write(\"dest_audio\"+str(i)+\".wav\", y, sr)\n"
   ]
  },
  {
   "cell_type": "code",
   "execution_count": 15,
   "metadata": {},
   "outputs": [],
   "source": []
  },
  {
   "cell_type": "code",
   "execution_count": 19,
   "metadata": {},
   "outputs": [
    {
     "name": "stdout",
     "output_type": "stream",
     "text": [
      "8000\n",
      "8000\n",
      "8000\n",
      "8000\n",
      "8000\n",
      "8000\n",
      "8000\n",
      "8000\n",
      "8000\n",
      "8000\n",
      "8000\n",
      "8000\n",
      "8000\n",
      "4000\n"
     ]
    }
   ],
   "source": []
  }
 ],
 "metadata": {
  "kernelspec": {
   "display_name": "Python 3.10.8 64-bit (microsoft store)",
   "language": "python",
   "name": "python3"
  },
  "language_info": {
   "codemirror_mode": {
    "name": "ipython",
    "version": 3
   },
   "file_extension": ".py",
   "mimetype": "text/x-python",
   "name": "python",
   "nbconvert_exporter": "python",
   "pygments_lexer": "ipython3",
   "version": "3.10.8"
  },
  "orig_nbformat": 4,
  "vscode": {
   "interpreter": {
    "hash": "5e0ea5c72d63ec74a3e65528804f354af75f9a6d7105333063f2a8079cd404aa"
   }
  }
 },
 "nbformat": 4,
 "nbformat_minor": 2
}
