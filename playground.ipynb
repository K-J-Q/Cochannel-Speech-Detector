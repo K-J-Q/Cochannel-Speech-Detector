{
 "cells": [
  {
   "cell_type": "code",
   "execution_count": null,
   "metadata": {},
   "outputs": [],
   "source": [
    "from configparser import ConfigParser\n",
    "\n",
    "config = ConfigParser()\n",
    "config.read('config.ini')\n",
    "config['augmentations']['pad_trunc_noise_multiplier']\n"
   ]
  },
  {
   "cell_type": "code",
   "execution_count": null,
   "metadata": {},
   "outputs": [],
   "source": [
    "from torchsummary import summary\n",
    "summary(model, (1,257, 63))"
   ]
  },
  {
   "cell_type": "code",
   "execution_count": null,
   "metadata": {},
   "outputs": [],
   "source": [
    "import torch\n",
    "from loader.AudioDataset import specMask, collate_batch, createDataset\n",
    "from torch.utils.data import Dataset\n",
    "import loader.utils as utils\n",
    "import matplotlib.pyplot as plt\n",
    "import model\n",
    "import random\n",
    "\n",
    "random.seed(10)\n",
    "torch.manual_seed(10)\n",
    "\n",
    "linux = '/media/jianquan/Data/Processed Audio/'\n",
    "windows = 'E:/Processed Audio/'\n",
    "\n",
    "audio_paths, _ = utils.getAudioPaths(windows)\n",
    "\n",
    "audio_train_dataset = createDataset(audio_paths, transformParams = utils.getTransforms(False), outputAudio = True)\n",
    "\n",
    "test_dataloader = torch.utils.data.DataLoader(\n",
    "    audio_train_dataset,\n",
    "    batch_size=1,\n",
    "    num_workers=0,\n",
    "    shuffle=False,\n",
    "    collate_fn = collate_batch\n",
    ")\n",
    "batch = next(iter(test_dataloader))\n",
    "batch_size = len(batch[0])\n",
    "\n",
    "nfftList = [64, 128, 256, 512, 1024]\n",
    "classList = [0, 1, 2]\n",
    "\n",
    "for nfft in nfftList:\n",
    "    for specClass in classList:\n",
    "        saveName = f'nfft{nfft}_class{specClass}'\n",
    "        print(saveName, end=': ')\n",
    "        testModel = model.CNNNetwork(nfft, specClass)\n",
    "        testModel(batch[0])\n",
    "        plt.savefig(f'./spec/spec/whisper Norm/{saveName}.png')\n",
    "\n",
    "\n",
    "# import IPython.display as ipd\n",
    "# ipd.Audio(batch[0][3], rate = 8000)\n",
    "# for b in batch[0]:\n",
    "#     # print(b.max(),b.median(),b.mean(), b.min())\n",
    "#     # print(b).\n",
    "\n",
    "    \n",
    "#     plt.plot(b[0])\n",
    "#     plt.show()"
   ]
  },
  {
   "cell_type": "code",
   "execution_count": 15,
   "metadata": {},
   "outputs": [
    {
     "name": "stdout",
     "output_type": "stream",
     "text": [
      "Estimated time to complete epoch: 0:00:01.111835\n",
      "Estimated time to complete training: 0:00:11.118350(2022-12-09 09:46:33.046062)\n"
     ]
    }
   ],
   "source": [
    "# write a start time and end time using datetime\n",
    "import datetime as datetime\n",
    "import time\n",
    "epochs = 10\n",
    "start = datetime.datetime.now()\n",
    "for i in range(10):\n",
    "    time.sleep(0.1)\n",
    "end = datetime.datetime.now()\n",
    "print(f'Estimated time to complete epoch: {end-start}')\n",
    "print(f'Estimated time to complete training: {(end-start)*epochs}({end+(end-start)*epochs})')"
   ]
  }
 ],
 "metadata": {
  "kernelspec": {
   "display_name": "Python 3.9.13 ('base')",
   "language": "python",
   "name": "python3"
  },
  "language_info": {
   "codemirror_mode": {
    "name": "ipython",
    "version": 3
   },
   "file_extension": ".py",
   "mimetype": "text/x-python",
   "name": "python",
   "nbconvert_exporter": "python",
   "pygments_lexer": "ipython3",
   "version": "3.9.13"
  },
  "orig_nbformat": 4,
  "vscode": {
   "interpreter": {
    "hash": "d7288e82646d3164eca24130947288f8779d11454649f2c02a5dfc42af7f324c"
   }
  }
 },
 "nbformat": 4,
 "nbformat_minor": 2
}
