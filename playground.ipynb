{
 "cells": [
  {
   "cell_type": "code",
   "execution_count": 14,
   "metadata": {},
   "outputs": [
    {
     "data": {
      "text/plain": [
       "'0.025'"
      ]
     },
     "execution_count": 14,
     "metadata": {},
     "output_type": "execute_result"
    }
   ],
   "source": [
    "from configparser import ConfigParser\n",
    "\n",
    "config = ConfigParser()\n",
    "config.read('config.ini')\n",
    "config['augmentations']['pad_trunc_noise_multiplier']\n"
   ]
  },
  {
   "cell_type": "code",
   "execution_count": 28,
   "metadata": {},
   "outputs": [
    {
     "name": "stdout",
     "output_type": "stream",
     "text": [
      "[{'before_cochannel': [<audiomentations.augmentations.gain.Gain object at 0x000001DCD3E22A10>, <audiomentations.augmentations.time_stretch.TimeStretch object at 0x000001DCD51EA9E0>, <audiomentations.augmentations.shift.Shift object at 0x000001DCD51EA4A0>], 'audio': [<audiomentations.augmentations.add_gaussian_noise.AddGaussianNoise object at 0x000001DCD51E92D0>, <audiomentations.augmentations.pitch_shift.PitchShift object at 0x000001DCD51EA3E0>]}]\n"
     ]
    }
   ],
   "source": [
    "from transforms import getTransforms\n",
    "\n",
    "transformParams = getTransforms(True)\n",
    "print(transformParams)\n",
    "# for transform in transformParams:\n",
    "#     print(transform)\n"
   ]
  },
  {
   "cell_type": "code",
   "execution_count": null,
   "metadata": {},
   "outputs": [],
   "source": [
    "import pyaudio\n",
    "import wave\n",
    "# from torchaudio.io import StreamReader\n",
    "\n",
    "CHUNK = 1024\n",
    "FORMAT = pyaudio.paInt16\n",
    "CHANNELS = 2\n",
    "RATE = 8000\n",
    "RECORD_SECONDS = 5\n",
    "WAVE_OUTPUT_FILENAME = \"output.wav\"\n",
    "\n",
    "p = pyaudio.PyAudio()\n",
    "\n",
    "stream = p.open(format=FORMAT,\n",
    "                channels=CHANNELS,\n",
    "                rate=RATE,\n",
    "                input=True,\n",
    "                frames_per_buffer=CHUNK)\n",
    "\n",
    "print(\"* recording\")\n",
    "\n",
    "frames = []\n",
    "\n",
    "for i in range(0, int(RATE / CHUNK * RECORD_SECONDS)):\n",
    "    data = stream.read(CHUNK)\n",
    "    print(data)\n",
    "    frames.append(data)\n",
    "\n",
    "print(\"* done recording\")\n",
    "\n",
    "stream.stop_stream()\n",
    "stream.close()\n",
    "p.terminate()\n",
    "\n",
    "wf = wave.open(WAVE_OUTPUT_FILENAME, 'wb')\n",
    "wf.setnchannels(CHANNELS)\n",
    "wf.setsampwidth(p.get_sample_size(FORMAT))\n",
    "wf.setframerate(RATE)\n",
    "wf.writeframes(b''.join(frames))\n",
    "wf.close()\n"
   ]
  },
  {
   "cell_type": "code",
   "execution_count": null,
   "metadata": {},
   "outputs": [],
   "source": [
    "import Augmentation\n",
    "import torch\n",
    "from AudioDataset import transformData\n",
    "from torch.utils.data import Dataset\n",
    "import audiomentations\n",
    "from transforms import getTransforms\n",
    "\n",
    "audio_paths = Augmentation.getAudioPaths('./data')\n",
    "\n",
    "# audio_paths += Augmentation.getAudio(\n",
    "#     'E:/Processed Singapore Speech Corpus/ENV')[0:1000]\n",
    "\n",
    "\n",
    "audio_train_dataset = transformData(audio_paths, transformParams=getTransforms(True), generateCochannel=True)\n",
    "\n",
    "test_dataloader = torch.utils.data.DataLoader(\n",
    "    audio_train_dataset,\n",
    "    batch_size=64,\n",
    "    num_workers=0,\n",
    "    shuffle=True,\n",
    ")\n",
    "   \n",
    "\n",
    "batch = next(iter(test_dataloader))\n",
    "batch"
   ]
  },
  {
   "cell_type": "code",
   "execution_count": null,
   "metadata": {},
   "outputs": [],
   "source": [
    "import matplotlib.pyplot as plt\n",
    "\n",
    "\n",
    "# batch = next(iter(test_dataloader))\n",
    "\n",
    "idx = 0\n",
    "print(batch[1][idx].item())\n",
    "plt.imshow(batch[0][idx][0])\n",
    "plt.colorbar()\n",
    "plt.show()\n",
    "\n",
    "\n"
   ]
  }
 ],
 "metadata": {
  "kernelspec": {
   "display_name": "Python 3.10.8 64-bit (microsoft store)",
   "language": "python",
   "name": "python3"
  },
  "language_info": {
   "codemirror_mode": {
    "name": "ipython",
    "version": 3
   },
   "file_extension": ".py",
   "mimetype": "text/x-python",
   "name": "python",
   "nbconvert_exporter": "python",
   "pygments_lexer": "ipython3",
   "version": "3.10.8"
  },
  "orig_nbformat": 4,
  "vscode": {
   "interpreter": {
    "hash": "8685c0375ecc66ed15ce29b5025bf019bcd9a2111a8bd2def8763ceefc8ea8bc"
   }
  }
 },
 "nbformat": 4,
 "nbformat_minor": 2
}
